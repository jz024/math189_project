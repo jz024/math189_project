{
 "cells": [
  {
   "cell_type": "code",
   "execution_count": 1,
   "id": "de5aec06",
   "metadata": {},
   "outputs": [],
   "source": [
    "import numpy as np\n",
    "import pandas as pd\n",
    "import seaborn as sns"
   ]
  },
  {
   "cell_type": "code",
   "execution_count": 2,
   "id": "eeb0f7a6",
   "metadata": {},
   "outputs": [],
   "source": [
    "# read in the csv file\n",
    "employment=pd.read_csv('employment.csv')"
   ]
  },
  {
   "cell_type": "code",
   "execution_count": 3,
   "id": "c3dc3b27",
   "metadata": {},
   "outputs": [
    {
     "data": {
      "text/html": [
       "<div>\n",
       "<style scoped>\n",
       "    .dataframe tbody tr th:only-of-type {\n",
       "        vertical-align: middle;\n",
       "    }\n",
       "\n",
       "    .dataframe tbody tr th {\n",
       "        vertical-align: top;\n",
       "    }\n",
       "\n",
       "    .dataframe thead th {\n",
       "        text-align: right;\n",
       "    }\n",
       "</style>\n",
       "<table border=\"1\" class=\"dataframe\">\n",
       "  <thead>\n",
       "    <tr style=\"text-align: right;\">\n",
       "      <th></th>\n",
       "      <th>State</th>\n",
       "      <th>Total employment (thousands)</th>\n",
       "      <th>12-month percent change in employment</th>\n",
       "      <th>12-month net change in employment (thousands)</th>\n",
       "    </tr>\n",
       "  </thead>\n",
       "  <tbody>\n",
       "    <tr>\n",
       "      <th>0</th>\n",
       "      <td>Alabama</td>\n",
       "      <td>2,169.2</td>\n",
       "      <td>1.6</td>\n",
       "      <td>33.2</td>\n",
       "    </tr>\n",
       "    <tr>\n",
       "      <th>1</th>\n",
       "      <td>Alaska</td>\n",
       "      <td>329.9</td>\n",
       "      <td>1.4</td>\n",
       "      <td>4.7</td>\n",
       "    </tr>\n",
       "    <tr>\n",
       "      <th>2</th>\n",
       "      <td>Arizona</td>\n",
       "      <td>3,189.3</td>\n",
       "      <td>2.1</td>\n",
       "      <td>66.7</td>\n",
       "    </tr>\n",
       "    <tr>\n",
       "      <th>3</th>\n",
       "      <td>Arkansas</td>\n",
       "      <td>1,362.6</td>\n",
       "      <td>1.1</td>\n",
       "      <td>15.1</td>\n",
       "    </tr>\n",
       "    <tr>\n",
       "      <th>4</th>\n",
       "      <td>California</td>\n",
       "      <td>18,180.7</td>\n",
       "      <td>1.7</td>\n",
       "      <td>311.6</td>\n",
       "    </tr>\n",
       "  </tbody>\n",
       "</table>\n",
       "</div>"
      ],
      "text/plain": [
       "        State Total employment (thousands)  \\\n",
       "0     Alabama                      2,169.2   \n",
       "1      Alaska                        329.9   \n",
       "2     Arizona                      3,189.3   \n",
       "3    Arkansas                      1,362.6   \n",
       "4  California                     18,180.7   \n",
       "\n",
       "   12-month percent change in employment  \\\n",
       "0                                    1.6   \n",
       "1                                    1.4   \n",
       "2                                    2.1   \n",
       "3                                    1.1   \n",
       "4                                    1.7   \n",
       "\n",
       "   12-month net change in employment (thousands)  \n",
       "0                                           33.2  \n",
       "1                                            4.7  \n",
       "2                                           66.7  \n",
       "3                                           15.1  \n",
       "4                                          311.6  "
      ]
     },
     "execution_count": 3,
     "metadata": {},
     "output_type": "execute_result"
    }
   ],
   "source": [
    "# look at the first few rows of the table\n",
    "employment.head()"
   ]
  },
  {
   "cell_type": "code",
   "execution_count": 4,
   "id": "85130665",
   "metadata": {},
   "outputs": [],
   "source": [
    "# drop unecessary columns\n",
    "employment.drop(columns=['12-month percent change in employment', '12-month net change in employment (thousands)'], inplace=True)"
   ]
  },
  {
   "cell_type": "code",
   "execution_count": 5,
   "id": "1cea4ad5",
   "metadata": {},
   "outputs": [],
   "source": [
    "# function to standardize the values of the total employment column\n",
    "def standardize(s):\n",
    "    if ',' in s:\n",
    "        s=s.replace(',', '')\n",
    "    s=float(s)*1000\n",
    "    return s"
   ]
  },
  {
   "cell_type": "code",
   "execution_count": 6,
   "id": "0dd753f8",
   "metadata": {},
   "outputs": [],
   "source": [
    "# rename the column\n",
    "employment.rename(columns={'Total employment (thousands)': 'Total employment'}, inplace=True)"
   ]
  },
  {
   "cell_type": "code",
   "execution_count": 7,
   "id": "5ed360aa",
   "metadata": {},
   "outputs": [
    {
     "data": {
      "text/html": [
       "<div>\n",
       "<style scoped>\n",
       "    .dataframe tbody tr th:only-of-type {\n",
       "        vertical-align: middle;\n",
       "    }\n",
       "\n",
       "    .dataframe tbody tr th {\n",
       "        vertical-align: top;\n",
       "    }\n",
       "\n",
       "    .dataframe thead th {\n",
       "        text-align: right;\n",
       "    }\n",
       "</style>\n",
       "<table border=\"1\" class=\"dataframe\">\n",
       "  <thead>\n",
       "    <tr style=\"text-align: right;\">\n",
       "      <th></th>\n",
       "      <th>State</th>\n",
       "      <th>Total employment</th>\n",
       "    </tr>\n",
       "  </thead>\n",
       "  <tbody>\n",
       "    <tr>\n",
       "      <th>0</th>\n",
       "      <td>Alabama</td>\n",
       "      <td>2169200.0</td>\n",
       "    </tr>\n",
       "    <tr>\n",
       "      <th>1</th>\n",
       "      <td>Alaska</td>\n",
       "      <td>329900.0</td>\n",
       "    </tr>\n",
       "    <tr>\n",
       "      <th>2</th>\n",
       "      <td>Arizona</td>\n",
       "      <td>3189300.0</td>\n",
       "    </tr>\n",
       "    <tr>\n",
       "      <th>3</th>\n",
       "      <td>Arkansas</td>\n",
       "      <td>1362600.0</td>\n",
       "    </tr>\n",
       "    <tr>\n",
       "      <th>4</th>\n",
       "      <td>California</td>\n",
       "      <td>18180700.0</td>\n",
       "    </tr>\n",
       "  </tbody>\n",
       "</table>\n",
       "</div>"
      ],
      "text/plain": [
       "        State  Total employment\n",
       "0     Alabama         2169200.0\n",
       "1      Alaska          329900.0\n",
       "2     Arizona         3189300.0\n",
       "3    Arkansas         1362600.0\n",
       "4  California        18180700.0"
      ]
     },
     "execution_count": 7,
     "metadata": {},
     "output_type": "execute_result"
    }
   ],
   "source": [
    "# apply the standardize function to the entire column\n",
    "employment['Total employment']=employment['Total employment'].apply(standardize)\n",
    "employment.head()"
   ]
  },
  {
   "cell_type": "code",
   "execution_count": 8,
   "id": "6fd2820c",
   "metadata": {},
   "outputs": [
    {
     "data": {
      "text/html": [
       "<div>\n",
       "<style scoped>\n",
       "    .dataframe tbody tr th:only-of-type {\n",
       "        vertical-align: middle;\n",
       "    }\n",
       "\n",
       "    .dataframe tbody tr th {\n",
       "        vertical-align: top;\n",
       "    }\n",
       "\n",
       "    .dataframe thead th {\n",
       "        text-align: right;\n",
       "    }\n",
       "</style>\n",
       "<table border=\"1\" class=\"dataframe\">\n",
       "  <thead>\n",
       "    <tr style=\"text-align: right;\">\n",
       "      <th></th>\n",
       "      <th>Total employment</th>\n",
       "    </tr>\n",
       "  </thead>\n",
       "  <tbody>\n",
       "    <tr>\n",
       "      <th>count</th>\n",
       "      <td>5.200000e+01</td>\n",
       "    </tr>\n",
       "    <tr>\n",
       "      <th>mean</th>\n",
       "      <td>3.039923e+06</td>\n",
       "    </tr>\n",
       "    <tr>\n",
       "      <th>std</th>\n",
       "      <td>3.446614e+06</td>\n",
       "    </tr>\n",
       "    <tr>\n",
       "      <th>min</th>\n",
       "      <td>2.965000e+05</td>\n",
       "    </tr>\n",
       "    <tr>\n",
       "      <th>25%</th>\n",
       "      <td>8.418500e+05</td>\n",
       "    </tr>\n",
       "    <tr>\n",
       "      <th>50%</th>\n",
       "      <td>1.987250e+06</td>\n",
       "    </tr>\n",
       "    <tr>\n",
       "      <th>75%</th>\n",
       "      <td>3.688625e+06</td>\n",
       "    </tr>\n",
       "    <tr>\n",
       "      <th>max</th>\n",
       "      <td>1.818070e+07</td>\n",
       "    </tr>\n",
       "  </tbody>\n",
       "</table>\n",
       "</div>"
      ],
      "text/plain": [
       "       Total employment\n",
       "count      5.200000e+01\n",
       "mean       3.039923e+06\n",
       "std        3.446614e+06\n",
       "min        2.965000e+05\n",
       "25%        8.418500e+05\n",
       "50%        1.987250e+06\n",
       "75%        3.688625e+06\n",
       "max        1.818070e+07"
      ]
     },
     "execution_count": 8,
     "metadata": {},
     "output_type": "execute_result"
    }
   ],
   "source": [
    "summary=employment.describe()\n",
    "summary"
   ]
  },
  {
   "cell_type": "code",
   "execution_count": 9,
   "id": "d7815dec",
   "metadata": {},
   "outputs": [
    {
     "data": {
      "text/plain": [
       "<AxesSubplot:ylabel='Total employment'>"
      ]
     },
     "execution_count": 9,
     "metadata": {},
     "output_type": "execute_result"
    },
    {
     "data": {
      "image/png": "[encoded data removed]",
      "text/plain": [
       "<Figure size 432x288 with 1 Axes>"
      ]
     },
     "metadata": {
      "needs_background": "light"
     },
     "output_type": "display_data"
    }
   ],
   "source": [
    "# lineplot of total employment by state index\n",
    "sns.lineplot(x=employment.index, y='Total employment', data=employment)"
   ]
  },
  {
   "cell_type": "code",
   "execution_count": 10,
   "id": "b222c2b8",
   "metadata": {},
   "outputs": [],
   "source": [
    "population=pd.read_csv('US population by states.csv')"
   ]
  },
  {
   "cell_type": "code",
   "execution_count": 11,
   "id": "93deae96",
   "metadata": {},
   "outputs": [
    {
     "data": {
      "text/html": [
       "<div>\n",
       "<style scoped>\n",
       "    .dataframe tbody tr th:only-of-type {\n",
       "        vertical-align: middle;\n",
       "    }\n",
       "\n",
       "    .dataframe tbody tr th {\n",
       "        vertical-align: top;\n",
       "    }\n",
       "\n",
       "    .dataframe thead th {\n",
       "        text-align: right;\n",
       "    }\n",
       "</style>\n",
       "<table border=\"1\" class=\"dataframe\">\n",
       "  <thead>\n",
       "    <tr style=\"text-align: right;\">\n",
       "      <th></th>\n",
       "      <th>States</th>\n",
       "      <th>2020 Estimate Base</th>\n",
       "      <th>2020</th>\n",
       "      <th>2021</th>\n",
       "      <th>2022</th>\n",
       "      <th>2023</th>\n",
       "    </tr>\n",
       "  </thead>\n",
       "  <tbody>\n",
       "    <tr>\n",
       "      <th>0</th>\n",
       "      <td>.Alabama</td>\n",
       "      <td>5,024,294</td>\n",
       "      <td>5,031,864</td>\n",
       "      <td>5,050,380</td>\n",
       "      <td>5,073,903</td>\n",
       "      <td>5,108,468</td>\n",
       "    </tr>\n",
       "    <tr>\n",
       "      <th>1</th>\n",
       "      <td>.Alaska</td>\n",
       "      <td>733,374</td>\n",
       "      <td>732,964</td>\n",
       "      <td>734,923</td>\n",
       "      <td>733,276</td>\n",
       "      <td>733,406</td>\n",
       "    </tr>\n",
       "    <tr>\n",
       "      <th>2</th>\n",
       "      <td>.Arizona</td>\n",
       "      <td>7,157,902</td>\n",
       "      <td>7,186,683</td>\n",
       "      <td>7,272,487</td>\n",
       "      <td>7,365,684</td>\n",
       "      <td>7,431,344</td>\n",
       "    </tr>\n",
       "    <tr>\n",
       "      <th>3</th>\n",
       "      <td>.Arkansas</td>\n",
       "      <td>3,011,490</td>\n",
       "      <td>3,014,348</td>\n",
       "      <td>3,028,443</td>\n",
       "      <td>3,046,404</td>\n",
       "      <td>3,067,732</td>\n",
       "    </tr>\n",
       "    <tr>\n",
       "      <th>4</th>\n",
       "      <td>.California</td>\n",
       "      <td>39,538,212</td>\n",
       "      <td>39,503,200</td>\n",
       "      <td>39,145,060</td>\n",
       "      <td>39,040,616</td>\n",
       "      <td>38,965,193</td>\n",
       "    </tr>\n",
       "  </tbody>\n",
       "</table>\n",
       "</div>"
      ],
      "text/plain": [
       "        States 2020 Estimate Base        2020        2021        2022  \\\n",
       "0     .Alabama          5,024,294   5,031,864   5,050,380   5,073,903   \n",
       "1      .Alaska            733,374     732,964     734,923     733,276   \n",
       "2     .Arizona          7,157,902   7,186,683   7,272,487   7,365,684   \n",
       "3    .Arkansas          3,011,490   3,014,348   3,028,443   3,046,404   \n",
       "4  .California         39,538,212  39,503,200  39,145,060  39,040,616   \n",
       "\n",
       "         2023  \n",
       "0   5,108,468  \n",
       "1     733,406  \n",
       "2   7,431,344  \n",
       "3   3,067,732  \n",
       "4  38,965,193  "
      ]
     },
     "execution_count": 11,
     "metadata": {},
     "output_type": "execute_result"
    }
   ],
   "source": [
    "population.head()"
   ]
  },
  {
   "cell_type": "code",
   "execution_count": 12,
   "id": "ae4e1de0",
   "metadata": {},
   "outputs": [],
   "source": [
    "def remove(s):\n",
    "    if '.' in s:\n",
    "        s=s.replace('.','')\n",
    "    return s\n",
    "population['States']=population['States'].apply(remove)"
   ]
  },
  {
   "cell_type": "code",
   "execution_count": 13,
   "id": "526db913",
   "metadata": {},
   "outputs": [],
   "source": [
    "def standardize2(s):\n",
    "    if ',' in s:\n",
    "        s=s.replace(',','')\n",
    "    s=float(s)\n",
    "    return s\n",
    "population['2020 Estimate Base']=population['2020 Estimate Base'].apply(standardize2)\n",
    "population['2020']=population['2020'].apply(standardize2)\n",
    "population['2021']=population['2021'].apply(standardize2)\n",
    "population['2022']=population['2022'].apply(standardize2)\n",
    "population['2023']=population['2023'].apply(standardize2)"
   ]
  },
  {
   "cell_type": "code",
   "execution_count": 14,
   "id": "fd648bbe",
   "metadata": {},
   "outputs": [
    {
     "data": {
      "text/html": [
       "<div>\n",
       "<style scoped>\n",
       "    .dataframe tbody tr th:only-of-type {\n",
       "        vertical-align: middle;\n",
       "    }\n",
       "\n",
       "    .dataframe tbody tr th {\n",
       "        vertical-align: top;\n",
       "    }\n",
       "\n",
       "    .dataframe thead th {\n",
       "        text-align: right;\n",
       "    }\n",
       "</style>\n",
       "<table border=\"1\" class=\"dataframe\">\n",
       "  <thead>\n",
       "    <tr style=\"text-align: right;\">\n",
       "      <th></th>\n",
       "      <th>States</th>\n",
       "      <th>2020 Estimate Base</th>\n",
       "      <th>2020</th>\n",
       "      <th>2021</th>\n",
       "      <th>2022</th>\n",
       "      <th>2023</th>\n",
       "    </tr>\n",
       "  </thead>\n",
       "  <tbody>\n",
       "    <tr>\n",
       "      <th>0</th>\n",
       "      <td>Alabama</td>\n",
       "      <td>5024294.0</td>\n",
       "      <td>5031864.0</td>\n",
       "      <td>5050380.0</td>\n",
       "      <td>5073903.0</td>\n",
       "      <td>5108468.0</td>\n",
       "    </tr>\n",
       "    <tr>\n",
       "      <th>1</th>\n",
       "      <td>Alaska</td>\n",
       "      <td>733374.0</td>\n",
       "      <td>732964.0</td>\n",
       "      <td>734923.0</td>\n",
       "      <td>733276.0</td>\n",
       "      <td>733406.0</td>\n",
       "    </tr>\n",
       "    <tr>\n",
       "      <th>2</th>\n",
       "      <td>Arizona</td>\n",
       "      <td>7157902.0</td>\n",
       "      <td>7186683.0</td>\n",
       "      <td>7272487.0</td>\n",
       "      <td>7365684.0</td>\n",
       "      <td>7431344.0</td>\n",
       "    </tr>\n",
       "    <tr>\n",
       "      <th>3</th>\n",
       "      <td>Arkansas</td>\n",
       "      <td>3011490.0</td>\n",
       "      <td>3014348.0</td>\n",
       "      <td>3028443.0</td>\n",
       "      <td>3046404.0</td>\n",
       "      <td>3067732.0</td>\n",
       "    </tr>\n",
       "    <tr>\n",
       "      <th>4</th>\n",
       "      <td>California</td>\n",
       "      <td>39538212.0</td>\n",
       "      <td>39503200.0</td>\n",
       "      <td>39145060.0</td>\n",
       "      <td>39040616.0</td>\n",
       "      <td>38965193.0</td>\n",
       "    </tr>\n",
       "  </tbody>\n",
       "</table>\n",
       "</div>"
      ],
      "text/plain": [
       "       States  2020 Estimate Base        2020        2021        2022  \\\n",
       "0     Alabama           5024294.0   5031864.0   5050380.0   5073903.0   \n",
       "1      Alaska            733374.0    732964.0    734923.0    733276.0   \n",
       "2     Arizona           7157902.0   7186683.0   7272487.0   7365684.0   \n",
       "3    Arkansas           3011490.0   3014348.0   3028443.0   3046404.0   \n",
       "4  California          39538212.0  39503200.0  39145060.0  39040616.0   \n",
       "\n",
       "         2023  \n",
       "0   5108468.0  \n",
       "1    733406.0  \n",
       "2   7431344.0  \n",
       "3   3067732.0  \n",
       "4  38965193.0  "
      ]
     },
     "execution_count": 14,
     "metadata": {},
     "output_type": "execute_result"
    }
   ],
   "source": [
    "population.head()"
   ]
  },
  {
   "cell_type": "code",
   "execution_count": 15,
   "id": "73574262",
   "metadata": {},
   "outputs": [],
   "source": [
    "employment_rate=pd.DataFrame()\n",
    "employment_rate['State']=employment['State']\n",
    "employment_rate['Total employment']=employment['Total employment']/population['2023']"
   ]
  },
  {
   "cell_type": "code",
   "execution_count": 18,
   "id": "f9f23817",
   "metadata": {},
   "outputs": [
    {
     "data": {
      "text/html": [
       "<div>\n",
       "<style scoped>\n",
       "    .dataframe tbody tr th:only-of-type {\n",
       "        vertical-align: middle;\n",
       "    }\n",
       "\n",
       "    .dataframe tbody tr th {\n",
       "        vertical-align: top;\n",
       "    }\n",
       "\n",
       "    .dataframe thead th {\n",
       "        text-align: right;\n",
       "    }\n",
       "</style>\n",
       "<table border=\"1\" class=\"dataframe\">\n",
       "  <thead>\n",
       "    <tr style=\"text-align: right;\">\n",
       "      <th></th>\n",
       "      <th>State</th>\n",
       "      <th>Total employment</th>\n",
       "    </tr>\n",
       "  </thead>\n",
       "  <tbody>\n",
       "    <tr>\n",
       "      <th>0</th>\n",
       "      <td>Alabama</td>\n",
       "      <td>0.424628</td>\n",
       "    </tr>\n",
       "    <tr>\n",
       "      <th>1</th>\n",
       "      <td>Alaska</td>\n",
       "      <td>0.449819</td>\n",
       "    </tr>\n",
       "    <tr>\n",
       "      <th>2</th>\n",
       "      <td>Arizona</td>\n",
       "      <td>0.429169</td>\n",
       "    </tr>\n",
       "    <tr>\n",
       "      <th>3</th>\n",
       "      <td>Arkansas</td>\n",
       "      <td>0.444172</td>\n",
       "    </tr>\n",
       "    <tr>\n",
       "      <th>4</th>\n",
       "      <td>California</td>\n",
       "      <td>0.466588</td>\n",
       "    </tr>\n",
       "  </tbody>\n",
       "</table>\n",
       "</div>"
      ],
      "text/plain": [
       "        State  Total employment\n",
       "0     Alabama          0.424628\n",
       "1      Alaska          0.449819\n",
       "2     Arizona          0.429169\n",
       "3    Arkansas          0.444172\n",
       "4  California          0.466588"
      ]
     },
     "execution_count": 18,
     "metadata": {},
     "output_type": "execute_result"
    }
   ],
   "source": [
    "employment_rate.head()"
   ]
  },
  {
   "cell_type": "code",
   "execution_count": 19,
   "id": "3b8e30a3",
   "metadata": {},
   "outputs": [
    {
     "data": {
      "text/plain": [
       "<AxesSubplot:ylabel='Total employment'>"
      ]
     },
     "execution_count": 19,
     "metadata": {},
     "output_type": "execute_result"
    },
    {
     "data": {
      "image/png": "[encoded data removed]",
      "text/plain": [
       "<Figure size 432x288 with 1 Axes>"
      ]
     },
     "metadata": {
      "needs_background": "light"
     },
     "output_type": "display_data"
    }
   ],
   "source": [
    "sns.lineplot(x=employment_rate.index, y='Total employment', data=employment_rate)"
   ]
  },
  {
   "cell_type": "code",
   "execution_count": null,
   "id": "6aaf7d76",
   "metadata": {},
   "outputs": [],
   "source": []
  }
 ],
 "metadata": {
  "kernelspec": {
   "display_name": "Python 3 (ipykernel)",
   "language": "python",
   "name": "python3"
  },
  "language_info": {
   "codemirror_mode": {
    "name": "ipython",
    "version": 3
   },
   "file_extension": ".py",
   "mimetype": "text/x-python",
   "name": "python",
   "nbconvert_exporter": "python",
   "pygments_lexer": "ipython3",
   "version": "3.9.5"
  }
 },
 "nbformat": 4,
 "nbformat_minor": 5
}
